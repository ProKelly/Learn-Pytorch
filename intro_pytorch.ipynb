{
 "cells": [
  {
   "cell_type": "code",
   "execution_count": 1,
   "id": "90da3975",
   "metadata": {},
   "outputs": [],
   "source": [
    "import torch\n",
    "import numpy as np\n",
    "\n",
    "import warnings\n",
    "warnings.filterwarnings(\"ignore\")"
   ]
  },
  {
   "cell_type": "code",
   "execution_count": 2,
   "id": "63b134c0",
   "metadata": {},
   "outputs": [
    {
     "name": "stdout",
     "output_type": "stream",
     "text": [
      "torch version: 2.6.0+cu118\n",
      "numpy version: 2.2.4\n"
     ]
    }
   ],
   "source": [
    "print(\"torch version:\", torch.__version__)\n",
    "print(\"numpy version:\", np.__version__)"
   ]
  },
  {
   "cell_type": "markdown",
   "id": "3e45f99d",
   "metadata": {},
   "source": [
    "creating a 2x3 pytorch tensor with float32 datatype, assigns it to a specific device(CPU or GPU), and enabling gradient tracking for backpropagation"
   ]
  },
  {
   "cell_type": "code",
   "execution_count": 3,
   "id": "4866dbd0",
   "metadata": {},
   "outputs": [
    {
     "name": "stdout",
     "output_type": "stream",
     "text": [
      "device: cpu\n"
     ]
    }
   ],
   "source": [
    "device = \"cuda\" if torch.cuda.is_available() else \"cpu\"\n",
    "print(\"device:\", device)"
   ]
  },
  {
   "cell_type": "code",
   "execution_count": 4,
   "id": "3035d56b",
   "metadata": {},
   "outputs": [
    {
     "name": "stdout",
     "output_type": "stream",
     "text": [
      "my_tensor: tensor([[1., 2., 3.],\n",
      "        [4., 5., 6.]], requires_grad=True)\n",
      "Datatype: torch.float32\n",
      "Device: cpu\n",
      "Shape: torch.Size([2, 3])\n",
      "Requires Gradient: True\n"
     ]
    }
   ],
   "source": [
    "my_tensor = torch.tensor([[1,2,3], [4,5,6]], dtype=torch.float32, device=device, requires_grad=True)\n",
    "print(\"my_tensor:\", my_tensor)\n",
    "\n",
    "print(\"Datatype:\", my_tensor.dtype)\n",
    "print(\"Device:\", my_tensor.device)\n",
    "print(\"Shape:\", my_tensor.shape)\n",
    "print(\"Requires Gradient:\", my_tensor.requires_grad)"
   ]
  },
  {
   "cell_type": "markdown",
   "id": "b54866ff",
   "metadata": {},
   "source": [
    "creating an empty 3x3 tensor"
   ]
  },
  {
   "cell_type": "code",
   "execution_count": 5,
   "id": "aa6a76a2",
   "metadata": {},
   "outputs": [
    {
     "name": "stdout",
     "output_type": "stream",
     "text": [
      "Empty Tensor: tensor([[0., 0., 0.],\n",
      "        [0., 0., 0.],\n",
      "        [0., 0., 0.]])\n"
     ]
    }
   ],
   "source": [
    "x = torch.empty(3, 3)\n",
    "print(\"Empty Tensor:\", x)"
   ]
  },
  {
   "cell_type": "markdown",
   "id": "eff0d7c5",
   "metadata": {},
   "source": [
    "creating a tensor filled with zeros"
   ]
  },
  {
   "cell_type": "code",
   "execution_count": 6,
   "id": "7d391cc4",
   "metadata": {},
   "outputs": [
    {
     "name": "stdout",
     "output_type": "stream",
     "text": [
      "Zeros Tensor: tensor([[0., 0., 0.],\n",
      "        [0., 0., 0.],\n",
      "        [0., 0., 0.]])\n"
     ]
    }
   ],
   "source": [
    "x = torch.zeros(3, 3)\n",
    "print(\"Zeros Tensor:\", x)"
   ]
  },
  {
   "cell_type": "markdown",
   "id": "a66608f9",
   "metadata": {},
   "source": [
    "creating a tensor filled with ones"
   ]
  },
  {
   "cell_type": "code",
   "execution_count": 7,
   "id": "9b7ccd94",
   "metadata": {},
   "outputs": [
    {
     "name": "stdout",
     "output_type": "stream",
     "text": [
      "Ones Tensor: tensor([[1., 1., 1.],\n",
      "        [1., 1., 1.],\n",
      "        [1., 1., 1.]])\n"
     ]
    }
   ],
   "source": [
    "z = torch.ones(3, 3)\n",
    "print(\"Ones Tensor:\", z)"
   ]
  },
  {
   "cell_type": "markdown",
   "id": "91c274f2",
   "metadata": {},
   "source": [
    "creating a tensor with random values"
   ]
  },
  {
   "cell_type": "code",
   "execution_count": 8,
   "id": "4561679d",
   "metadata": {},
   "outputs": [
    {
     "name": "stdout",
     "output_type": "stream",
     "text": [
      "Random Tensor: tensor([[0.4173, 0.1925, 0.5628],\n",
      "        [0.4440, 0.1461, 0.3390],\n",
      "        [0.7969, 0.4374, 0.0182]])\n"
     ]
    }
   ],
   "source": [
    "x = torch.rand(3,3)\n",
    "print(\"Random Tensor:\", x)"
   ]
  },
  {
   "cell_type": "markdown",
   "id": "21a670cd",
   "metadata": {},
   "source": [
    "creating an identity matrix"
   ]
  },
  {
   "cell_type": "code",
   "execution_count": 9,
   "id": "7f9118a8",
   "metadata": {},
   "outputs": [
    {
     "name": "stdout",
     "output_type": "stream",
     "text": [
      "Identity Matrix: tensor([[1., 0., 0., 0.],\n",
      "        [0., 1., 0., 0.],\n",
      "        [0., 0., 1., 0.],\n",
      "        [0., 0., 0., 1.]])\n"
     ]
    }
   ],
   "source": [
    "x = torch.eye(4,4)\n",
    "print(\"Identity Matrix:\", x)"
   ]
  },
  {
   "cell_type": "markdown",
   "id": "b0f20bcd",
   "metadata": {},
   "source": [
    "create a tensor using arange"
   ]
  },
  {
   "cell_type": "code",
   "execution_count": 10,
   "id": "7620c5f0",
   "metadata": {},
   "outputs": [
    {
     "name": "stdout",
     "output_type": "stream",
     "text": [
      "Arange Tensor: tensor([0, 1, 2, 3, 4])\n"
     ]
    }
   ],
   "source": [
    "x = torch.arange(5)\n",
    "print(\"Arange Tensor:\", x)"
   ]
  },
  {
   "cell_type": "markdown",
   "id": "59f45c46",
   "metadata": {},
   "source": [
    "create a tensor using linspace"
   ]
  },
  {
   "cell_type": "code",
   "execution_count": 11,
   "id": "e156d79b",
   "metadata": {},
   "outputs": [
    {
     "name": "stdout",
     "output_type": "stream",
     "text": [
      "Linespace Tensor: tensor([0.1000, 0.3250, 0.5500, 0.7750, 1.0000])\n"
     ]
    }
   ],
   "source": [
    "x = torch.linspace(0.1,1,5)\n",
    "print(\"Linespace Tensor:\", x)"
   ]
  },
  {
   "cell_type": "markdown",
   "id": "d15593a3",
   "metadata": {},
   "source": [
    "create a tensor with values drawn from a normal distribution"
   ]
  },
  {
   "cell_type": "code",
   "execution_count": 12,
   "id": "5e5d4def",
   "metadata": {},
   "outputs": [
    {
     "name": "stdout",
     "output_type": "stream",
     "text": [
      "Normal Distribution Tensor: tensor([[0.3914, 1.3296, 0.0920, 1.6104, 0.3841]])\n"
     ]
    }
   ],
   "source": [
    "x = torch.empty(1,5).normal_(mean=0, std=1)\n",
    "print(\"Normal Distribution Tensor:\", x)"
   ]
  },
  {
   "cell_type": "markdown",
   "id": "74741ab0",
   "metadata": {},
   "source": [
    "creating a tensor with values drawn from a uniform distribution"
   ]
  },
  {
   "cell_type": "code",
   "execution_count": 13,
   "id": "d9f248b9",
   "metadata": {},
   "outputs": [
    {
     "name": "stdout",
     "output_type": "stream",
     "text": [
      "Uniform Distribution Tensor: tensor([[0.8919, 0.7681, 0.2409, 0.2355, 0.1280]])\n"
     ]
    }
   ],
   "source": [
    "x = torch.empty(1,5).uniform_(0,1)\n",
    "print(\"Uniform Distribution Tensor:\", x)"
   ]
  },
  {
   "cell_type": "markdown",
   "id": "eb7795e4",
   "metadata": {},
   "source": [
    "**Type conversion**\n",
    "creating a tensor with values [0,1,2,3] and demonstrating type conversion to boolean, int16, int64, float16, float32 and float64"
   ]
  },
  {
   "cell_type": "code",
   "execution_count": 14,
   "id": "25d2a643",
   "metadata": {},
   "outputs": [
    {
     "name": "stdout",
     "output_type": "stream",
     "text": [
      "Tensor: tensor([0, 1, 2, 3])\n"
     ]
    }
   ],
   "source": [
    "tensor = torch.arange(4)\n",
    "print(\"Tensor:\", tensor)"
   ]
  },
  {
   "cell_type": "code",
   "execution_count": 15,
   "id": "1da38fb3",
   "metadata": {},
   "outputs": [
    {
     "name": "stdout",
     "output_type": "stream",
     "text": [
      "Boolean Tensor: tensor([False,  True,  True,  True])\n"
     ]
    }
   ],
   "source": [
    "print(\"Boolean Tensor:\", tensor.bool())"
   ]
  },
  {
   "cell_type": "code",
   "execution_count": 16,
   "id": "7ab22b3f",
   "metadata": {},
   "outputs": [
    {
     "name": "stdout",
     "output_type": "stream",
     "text": [
      "Short Tensor(int16): tensor([0, 1, 2, 3], dtype=torch.int16)\n",
      "Long Tensor(int64): tensor([0, 1, 2, 3])\n"
     ]
    }
   ],
   "source": [
    "print(\"Short Tensor(int16):\", tensor.short())\n",
    "print(\"Long Tensor(int64):\", tensor.long())"
   ]
  },
  {
   "cell_type": "code",
   "execution_count": 17,
   "id": "a3bcdb86",
   "metadata": {},
   "outputs": [
    {
     "name": "stdout",
     "output_type": "stream",
     "text": [
      "Half Tensor(float16): tensor([0., 1., 2., 3.], dtype=torch.float16)\n",
      "Float Tensor(float32): tensor([0., 1., 2., 3.])\n",
      "Double Tensor(float64): tensor([0., 1., 2., 3.], dtype=torch.float64)\n"
     ]
    }
   ],
   "source": [
    "print(\"Half Tensor(float16):\", tensor.half())\n",
    "print(\"Float Tensor(float32):\", tensor.float())\n",
    "print(\"Double Tensor(float64):\", tensor.double())"
   ]
  },
  {
   "cell_type": "code",
   "execution_count": null,
   "metadata": {},
   "outputs": [],
   "source": []
  },
  {
   "cell_type": "markdown",
   "id": "ecea9b64",
   "metadata": {},
   "source": [
    "**Converting between Numpy arrays and Tensors**\n",
    "pytorch makes it easy to switch between Numpy arrays and tensors, allowing seamless integration with existing computing workflows."
   ]
  },
  {
   "cell_type": "code",
   "execution_count": 18,
   "id": "8d9d698b",
   "metadata": {},
   "outputs": [
    {
     "name": "stdout",
     "output_type": "stream",
     "text": [
      "Numpy Array:\n",
      " [[0. 0. 0. 0. 0.]\n",
      " [0. 0. 0. 0. 0.]\n",
      " [0. 0. 0. 0. 0.]\n",
      " [0. 0. 0. 0. 0.]\n",
      " [0. 0. 0. 0. 0.]]\n"
     ]
    }
   ],
   "source": [
    "np_array = np.zeros((5,5))\n",
    "print(\"Numpy Array:\\n\", np_array)"
   ]
  },
  {
   "cell_type": "code",
   "execution_count": 19,
   "id": "744a7d7f",
   "metadata": {},
   "outputs": [
    {
     "name": "stdout",
     "output_type": "stream",
     "text": [
      "Tensor from Numpy Array:\n",
      " tensor([[0., 0., 0., 0., 0.],\n",
      "        [0., 0., 0., 0., 0.],\n",
      "        [0., 0., 0., 0., 0.],\n",
      "        [0., 0., 0., 0., 0.],\n",
      "        [0., 0., 0., 0., 0.]], dtype=torch.float64)\n"
     ]
    }
   ],
   "source": [
    "tensor = torch.from_numpy(np_array)\n",
    "print(\"Tensor from Numpy Array:\\n\", tensor)"
   ]
  },
  {
   "cell_type": "code",
   "execution_count": 20,
   "id": "6f69267e",
   "metadata": {},
   "outputs": [
    {
     "name": "stdout",
     "output_type": "stream",
     "text": [
      "Numpy Array from Tensor:\n",
      " [[0. 0. 0. 0. 0.]\n",
      " [0. 0. 0. 0. 0.]\n",
      " [0. 0. 0. 0. 0.]\n",
      " [0. 0. 0. 0. 0.]\n",
      " [0. 0. 0. 0. 0.]]\n"
     ]
    }
   ],
   "source": [
    "numpy_back = tensor.numpy()\n",
    "print(\"Numpy Array from Tensor:\\n\", numpy_back)"
   ]
  },
  {
   "cell_type": "markdown",
   "id": "e1d35a61",
   "metadata": {},
   "source": [
    "**Tensor Mathematics and Comparism operations**"
   ]
  },
  {
   "cell_type": "code",
   "execution_count": 21,
   "id": "6aaa457e",
   "metadata": {},
   "outputs": [
    {
     "name": "stdout",
     "output_type": "stream",
     "text": [
      "x:tensor([1, 2, 3])  |  y:tensor([9, 8, 7])\n"
     ]
    }
   ],
   "source": [
    "x = torch.tensor([1,2,3])\n",
    "y = torch.tensor([9,8,7])\n",
    "print(f\"x:{x}  |  y:{y}\")"
   ]
  },
  {
   "cell_type": "markdown",
   "id": "1f2e607f",
   "metadata": {},
   "source": [
    "*Addition*"
   ]
  },
  {
   "cell_type": "code",
   "execution_count": 22,
   "id": "a09a5dd8",
   "metadata": {},
   "outputs": [
    {
     "name": "stdout",
     "output_type": "stream",
     "text": [
      "Addition Results: tensor([10, 10, 10])\n"
     ]
    }
   ],
   "source": [
    "z = x + y\n",
    "print(\"Addition Results:\", z)"
   ]
  },
  {
   "cell_type": "code",
   "execution_count": 23,
   "id": "9795e8b2",
   "metadata": {},
   "outputs": [
    {
     "name": "stdout",
     "output_type": "stream",
     "text": [
      "Addition Results using .add: tensor([10, 10, 10]) tensor([10., 10., 10.]) tensor([10, 10, 10])\n"
     ]
    }
   ],
   "source": [
    "'''addition using .add'''\n",
    "z1 = torch.empty(3)\n",
    "torch.add(x,y, out=z1)\n",
    "z2 = torch.add(x,y)\n",
    "print(\"Addition Results using .add:\", z,z1,z2)"
   ]
  },
  {
   "cell_type": "markdown",
   "id": "8061c190",
   "metadata": {},
   "source": [
    "*Subtraction*"
   ]
  },
  {
   "cell_type": "code",
   "execution_count": 24,
   "id": "06ef9254",
   "metadata": {},
   "outputs": [
    {
     "name": "stdout",
     "output_type": "stream",
     "text": [
      "Subtraction Results: tensor([-8, -6, -4])\n"
     ]
    }
   ],
   "source": [
    "z = x - y\n",
    "print(\"Subtraction Results:\", z)"
   ]
  },
  {
   "cell_type": "markdown",
   "id": "925490b6",
   "metadata": {},
   "source": [
    "*Division (true division)*"
   ]
  },
  {
   "cell_type": "code",
   "execution_count": 25,
   "id": "95ef5621",
   "metadata": {},
   "outputs": [
    {
     "name": "stdout",
     "output_type": "stream",
     "text": [
      "True Division Results: tensor([0.1111, 0.2500, 0.4286])\n"
     ]
    }
   ],
   "source": [
    "z = torch.true_divide(x,y)\n",
    "print(\"True Division Results:\", z)"
   ]
  },
  {
   "cell_type": "markdown",
   "id": "aec39d50",
   "metadata": {},
   "source": [
    "*Implace operations*"
   ]
  },
  {
   "cell_type": "code",
   "execution_count": 26,
   "id": "76144e74",
   "metadata": {},
   "outputs": [
    {
     "name": "stdout",
     "output_type": "stream",
     "text": [
      "Before implace addition: tensor([1., 1., 1.])\n",
      "After implace addition: tensor([2., 3., 4.])\n",
      "After Second Implace addition: tensor([3., 5., 7.])\n"
     ]
    }
   ],
   "source": [
    "t = torch.ones(3)\n",
    "print(\"Before implace addition:\", t)\n",
    "t.add_(x)\n",
    "print(\"After implace addition:\", t)\n",
    "t += x # note: t = t + x creates a new tensor\n",
    "print(\"After Second Implace addition:\", t)"
   ]
  },
  {
   "cell_type": "markdown",
   "id": "75f59424",
   "metadata": {},
   "source": [
    "*Exponentiation*"
   ]
  },
  {
   "cell_type": "code",
   "execution_count": 27,
   "id": "84e37f59",
   "metadata": {},
   "outputs": [
    {
     "name": "stdout",
     "output_type": "stream",
     "text": [
      "Power Results (pow): tensor([1, 4, 9])\n"
     ]
    }
   ],
   "source": [
    "z = x.pow(2)\n",
    "print(\"Power Results (pow):\", z)"
   ]
  },
  {
   "cell_type": "code",
   "execution_count": 28,
   "id": "e08b289e",
   "metadata": {},
   "outputs": [
    {
     "name": "stdout",
     "output_type": "stream",
     "text": [
      "Power Results (**): tensor([1, 4, 9])\n"
     ]
    }
   ],
   "source": [
    "z = x ** 2\n",
    "print(\"Power Results (**):\", z)"
   ]
  },
  {
   "cell_type": "markdown",
   "id": "bf10c376",
   "metadata": {},
   "source": [
    "*Comparisms*"
   ]
  },
  {
   "cell_type": "code",
   "execution_count": 29,
   "id": "57490198",
   "metadata": {},
   "outputs": [
    {
     "name": "stdout",
     "output_type": "stream",
     "text": [
      "x > 0: tensor([True, True, True])\n",
      "z < 0: tensor([False, False, False])\n",
      "x == 0: tensor([False, False, False])\n"
     ]
    }
   ],
   "source": [
    "z = x > 0\n",
    "print(\"x > 0:\", z)\n",
    "z = z < 0\n",
    "print(\"z < 0:\", z)\n",
    "z = x == 0\n",
    "print(\"x == 0:\", z)"
   ]
  },
  {
   "cell_type": "markdown",
   "id": "453b1353",
   "metadata": {},
   "source": [
    "*Dot Product*"
   ]
  },
  {
   "cell_type": "code",
   "execution_count": 30,
   "id": "d7349854",
   "metadata": {},
   "outputs": [
    {
     "name": "stdout",
     "output_type": "stream",
     "text": [
      "Dot Product: tensor(46)\n"
     ]
    }
   ],
   "source": [
    "z = torch.dot(x,y)\n",
    "print(\"Dot Product:\", z)"
   ]
  },
  {
   "cell_type": "markdown",
   "id": "2187f103",
   "metadata": {},
   "source": [
    "**Matric Multiplication and Batch Operations**"
   ]
  },
  {
   "cell_type": "markdown",
   "id": "9f55e028",
   "metadata": {},
   "source": [
    "*Matrix Multiplication uses @ or torch.mm()*"
   ]
  },
  {
   "cell_type": "code",
   "execution_count": 31,
   "id": "b1386f34",
   "metadata": {},
   "outputs": [
    {
     "name": "stdout",
     "output_type": "stream",
     "text": [
      "Matrix Multiplication(@ operator):\n",
      " tensor([[46]])\n",
      "Matrix Multiplication(mm function):\n",
      " tensor([[46]])\n"
     ]
    }
   ],
   "source": [
    "x2 = torch.tensor([[1,2,3]])\n",
    "y2 = torch.tensor([[9,8,7]])\n",
    "\n",
    "z = x2 @ torch.t(y2)\n",
    "print(\"Matrix Multiplication(@ operator):\\n\", z)\n",
    "\n",
    "z = torch.mm(x2, torch.t(y2))\n",
    "print(\"Matrix Multiplication(mm function):\\n\", z)"
   ]
  },
  {
   "cell_type": "markdown",
   "id": "eb863072",
   "metadata": {},
   "source": [
    "*Matrix exponentiation: multiplying a matrix with itself 3 times*"
   ]
  },
  {
   "cell_type": "code",
   "execution_count": 32,
   "id": "4891034d",
   "metadata": {},
   "outputs": [
    {
     "name": "stdout",
     "output_type": "stream",
     "text": [
      "Matrix multiplied 3 times:\n",
      " tensor([[3.2337, 2.3459, 1.4537, 1.9789, 2.9064],\n",
      "        [3.2327, 2.2860, 1.5220, 2.0166, 2.9165],\n",
      "        [3.9123, 2.6739, 1.9726, 2.5762, 3.5469],\n",
      "        [2.5836, 1.8868, 1.1257, 1.5439, 2.2998],\n",
      "        [2.8673, 2.0340, 1.3484, 1.8206, 2.5435]])\n",
      "Matrix power 3:\n",
      " tensor([[1.9910e-01, 2.3783e-01, 1.8204e-03, 7.4493e-02, 2.6085e-01],\n",
      "        [3.4909e-01, 1.9370e-01, 9.2573e-03, 2.7865e-05, 4.9173e-01],\n",
      "        [1.0990e-01, 8.5300e-04, 5.6758e-01, 2.1063e-01, 5.2858e-01],\n",
      "        [3.5436e-01, 1.2079e-01, 8.2032e-06, 8.9122e-03, 8.7848e-02],\n",
      "        [1.8338e-01, 1.5796e-02, 7.7100e-02, 2.4775e-01, 7.0444e-03]])\n"
     ]
    }
   ],
   "source": [
    "matrix_exp = torch.rand(5,5)\n",
    "print(\"Matrix multiplied 3 times:\\n\", matrix_exp @ matrix_exp @ matrix_exp)\n",
    "print(\"Matrix power 3:\\n\", matrix_exp.pow(3))"
   ]
  },
  {
   "cell_type": "markdown",
   "id": "5723408f",
   "metadata": {},
   "source": [
    "*Element-wise multiplication*"
   ]
  },
  {
   "cell_type": "code",
   "execution_count": 33,
   "id": "9f2f47bb",
   "metadata": {},
   "outputs": [
    {
     "name": "stdout",
     "output_type": "stream",
     "text": [
      "Element-wise Multiplication: tensor([ 9, 16, 21])\n",
      "Element-wise Multiplication (*): tensor([ 9, 16, 21])\n"
     ]
    }
   ],
   "source": [
    "z = torch.mul(x, y)\n",
    "print(\"Element-wise Multiplication:\", z)\n",
    "\n",
    "z = x * y\n",
    "print(\"Element-wise Multiplication (*):\", z)"
   ]
  },
  {
   "cell_type": "markdown",
   "id": "cfe3f465",
   "metadata": {},
   "source": [
    "*Batch Matrix Multiplication*"
   ]
  },
  {
   "cell_type": "code",
   "execution_count": 34,
   "id": "4541b2dd",
   "metadata": {},
   "outputs": [
    {
     "name": "stdout",
     "output_type": "stream",
     "text": [
      "Batch Matrix Multiplication (first batch):\n",
      " tensor([[5.3150, 5.5166, 4.5463, 4.3658, 4.2593, 4.5562, 4.1952, 5.3552, 4.2603,\n",
      "         4.9363, 4.1125, 4.6732, 4.8170, 4.5386, 5.1137, 4.0829, 4.6611, 3.6713,\n",
      "         4.7550, 4.7301, 4.2781, 5.1031, 3.9225, 4.8318, 4.6457, 4.2190, 5.1309,\n",
      "         5.5011, 4.0109, 2.8352],\n",
      "        [6.1800, 5.7125, 4.3777, 4.4965, 3.4768, 5.0644, 5.1806, 5.0750, 4.2768,\n",
      "         5.1937, 4.9714, 5.4069, 5.3882, 5.3743, 5.5494, 4.6129, 5.1022, 3.8722,\n",
      "         5.4751, 5.0319, 5.0286, 4.3964, 4.1716, 4.3873, 5.1229, 3.6045, 5.3028,\n",
      "         5.9582, 4.4269, 3.2008],\n",
      "        [3.9440, 4.3771, 4.6543, 3.4902, 4.3039, 4.5293, 3.4621, 4.9637, 3.8174,\n",
      "         5.1434, 3.6532, 5.3581, 4.8439, 4.0609, 4.7591, 3.6353, 3.6848, 3.9186,\n",
      "         4.5961, 4.4345, 4.6415, 4.7196, 4.2054, 4.3534, 4.2138, 4.3329, 4.3962,\n",
      "         5.2547, 4.4551, 3.6493],\n",
      "        [5.0619, 5.5438, 4.7315, 4.4756, 4.7456, 5.2352, 4.1619, 4.5960, 4.9203,\n",
      "         4.8727, 3.8882, 5.6950, 5.1251, 4.6957, 5.1669, 4.1609, 4.3424, 4.2399,\n",
      "         4.7009, 4.2560, 4.1447, 5.3611, 4.5715, 5.4064, 4.0817, 4.3145, 5.1729,\n",
      "         5.3197, 4.4063, 3.5107],\n",
      "        [5.1649, 5.3627, 5.8004, 5.0645, 4.0056, 5.7330, 5.2215, 6.3691, 4.5447,\n",
      "         5.8073, 4.8071, 6.0583, 5.2199, 5.0027, 5.7089, 4.6880, 5.2196, 4.8529,\n",
      "         5.8253, 5.6538, 5.1025, 5.7106, 5.2016, 5.4222, 5.7802, 4.3748, 5.6892,\n",
      "         6.1912, 5.4301, 4.1457],\n",
      "        [7.0008, 6.5624, 5.8483, 4.8687, 5.2215, 6.1367, 5.4416, 6.3371, 5.4260,\n",
      "         6.6556, 5.2151, 6.7111, 6.7878, 6.6129, 6.5940, 4.9689, 5.8017, 5.0227,\n",
      "         6.1974, 6.2056, 6.2660, 6.0011, 5.5111, 5.4742, 6.2318, 5.6892, 5.8166,\n",
      "         7.3240, 5.7273, 4.4793],\n",
      "        [6.1291, 5.2715, 5.3364, 4.5293, 4.1269, 5.8994, 5.7272, 5.9026, 4.3514,\n",
      "         5.8463, 5.5584, 6.4702, 6.3305, 5.2656, 6.0759, 4.7063, 5.3865, 4.6350,\n",
      "         6.4147, 5.3445, 6.3386, 5.1772, 5.1312, 4.4256, 5.5326, 4.4655, 4.9197,\n",
      "         6.7708, 5.2402, 4.2143],\n",
      "        [7.1635, 6.8469, 5.7081, 5.6405, 5.4239, 6.3824, 6.2351, 6.4167, 6.2194,\n",
      "         5.7642, 5.0300, 7.0827, 6.8523, 5.9795, 6.3119, 5.1745, 5.7560, 5.3995,\n",
      "         6.9886, 5.9889, 5.6299, 6.4726, 5.8752, 6.3237, 5.8288, 5.7017, 5.8685,\n",
      "         6.8604, 6.0353, 4.9047],\n",
      "        [6.4448, 5.8686, 5.2193, 4.9825, 4.8549, 6.0341, 5.1784, 6.0202, 4.2034,\n",
      "         6.8928, 5.2006, 6.5740, 5.5009, 5.8923, 6.1680, 4.7239, 5.5293, 5.4245,\n",
      "         5.4323, 6.2480, 6.2764, 5.2966, 5.0463, 5.2773, 6.6911, 4.4415, 5.8259,\n",
      "         6.8411, 5.1709, 4.1860],\n",
      "        [5.3142, 5.7485, 4.8900, 4.3298, 5.4648, 5.6271, 4.8708, 5.6045, 5.1184,\n",
      "         6.1088, 4.0461, 6.1440, 5.5610, 5.4644, 5.2986, 4.3529, 4.7286, 4.9972,\n",
      "         5.5190, 5.9615, 5.1280, 6.1932, 4.8713, 6.2084, 5.4360, 5.7227, 5.7979,\n",
      "         6.1852, 5.1981, 4.3306]])\n",
      "Shape of batched multiplication result: torch.Size([32, 10, 30])\n"
     ]
    }
   ],
   "source": [
    "batch = 32\n",
    "n , m, p = 10, 20, 30\n",
    "tensor1 = torch.rand((batch, n, m))\n",
    "tensor2 = torch.rand((batch, m, p))\n",
    "out_bmm = torch.bmm(tensor1, tensor2)\n",
    "\n",
    "print(\"Batch Matrix Multiplication (first batch):\\n\", out_bmm[0])\n",
    "print(\"Shape of batched multiplication result:\", (tensor1 @ tensor2).shape)"
   ]
  },
  {
   "cell_type": "markdown",
   "id": "b0eeb635",
   "metadata": {},
   "source": [
    "**Broadcasting and other Useful Operations** "
   ]
  },
  {
   "cell_type": "markdown",
   "id": "23b41693",
   "metadata": {},
   "source": [
    "*Broadcasting automatically expansd smaller tensors to match larger ones in operations*"
   ]
  },
  {
   "cell_type": "code",
   "execution_count": 35,
   "id": "3c44eba3",
   "metadata": {},
   "outputs": [
    {
     "name": "stdout",
     "output_type": "stream",
     "text": [
      "Tensor x1:\n",
      " tensor([[0.1644, 0.4561, 0.5839, 0.4839, 0.2302],\n",
      "        [0.3254, 0.7727, 0.1979, 0.0706, 0.7465],\n",
      "        [0.1204, 0.1465, 0.3205, 0.7154, 0.6798],\n",
      "        [0.4706, 0.2650, 0.7520, 0.8222, 0.7931],\n",
      "        [0.4691, 0.1857, 0.1773, 0.6659, 0.7722]])\n",
      "Tensor x2:\n",
      " tensor([0.2601, 0.6265, 0.8055, 0.5305, 0.4569])\n",
      "x1 - x2:\n",
      " tensor([[-0.0957, -0.1704, -0.2216, -0.0467, -0.2267],\n",
      "        [ 0.0654,  0.1462, -0.6076, -0.4599,  0.2896],\n",
      "        [-0.1396, -0.4800, -0.4850,  0.1849,  0.2230],\n",
      "        [ 0.2105, -0.3615, -0.0535,  0.2917,  0.3362],\n",
      "        [ 0.2090, -0.4408, -0.6282,  0.1353,  0.3153]])\n",
      "x1 raised to the power of x2:\n",
      " tensor([[0.6253, 0.6115, 0.6483, 0.6803, 0.5112],\n",
      "        [0.7468, 0.8508, 0.2712, 0.2451, 0.8750],\n",
      "        [0.5767, 0.3002, 0.3999, 0.8372, 0.8384],\n",
      "        [0.8220, 0.4352, 0.7949, 0.9014, 0.8995],\n",
      "        [0.8213, 0.3483, 0.2482, 0.8059, 0.8886]])\n"
     ]
    }
   ],
   "source": [
    "x1 = torch.rand(5,5)\n",
    "x2 = torch.rand(5)\n",
    "print(\"Tensor x1:\\n\", x1)\n",
    "print(\"Tensor x2:\\n\", x2)\n",
    "print(\"x1 - x2:\\n\", x1 - x2)\n",
    "print(\"x1 raised to the power of x2:\\n\", x1 ** x2)"
   ]
  },
  {
   "cell_type": "markdown",
   "id": "f7cd25e1",
   "metadata": {},
   "source": [
    "*Sum of tensor elements along dimension 0*"
   ]
  },
  {
   "cell_type": "code",
   "execution_count": 36,
   "id": "8c2f5562",
   "metadata": {},
   "outputs": [
    {
     "name": "stdout",
     "output_type": "stream",
     "text": [
      "Sum of x along dim=0: tensor(6)\n"
     ]
    }
   ],
   "source": [
    "sum_x = torch.sum(x, dim=0)\n",
    "print(\"Sum of x along dim=0:\", sum_x)"
   ]
  },
  {
   "cell_type": "markdown",
   "id": "f8245d53",
   "metadata": {},
   "source": [
    "*Maximum and minimum values*"
   ]
  },
  {
   "cell_type": "code",
   "execution_count": 37,
   "id": "0f735f78",
   "metadata": {},
   "outputs": [
    {
     "name": "stdout",
     "output_type": "stream",
     "text": [
      "max value and index: tensor(3) tensor(2)\n",
      "min value and index: tensor(1) tensor(0)\n"
     ]
    }
   ],
   "source": [
    "value, indices = torch.max(x, dim=0)\n",
    "print(\"max value and index:\", value, indices)\n",
    "\n",
    "value, indices = torch.min(x, dim=0)\n",
    "print(\"min value and index:\", value, indices)"
   ]
  },
  {
   "cell_type": "markdown",
   "id": "a3b9ecbc",
   "metadata": {},
   "source": [
    "*Absolute Values*"
   ]
  },
  {
   "cell_type": "code",
   "execution_count": 38,
   "id": "a1448dd7",
   "metadata": {},
   "outputs": [
    {
     "name": "stdout",
     "output_type": "stream",
     "text": [
      "Absolute value of x: tensor([1, 2, 3])\n",
      "Argmax: tensor(2)\n",
      "Argmin: tensor(0)\n",
      "mean (converted to float): tensor(2.)\n",
      "Element-wise equality (x == y): tensor([False, False, False])\n"
     ]
    }
   ],
   "source": [
    "print(\"Absolute value of x:\", torch.abs(x))\n",
    "print(\"Argmax:\", torch.argmax(x, dim=0))\n",
    "print(\"Argmin:\", torch.argmin(x, dim=0))\n",
    "print(\"mean (converted to float):\", torch.mean(x.float(), dim=0))\n",
    "print(\"Element-wise equality (x == y):\", torch.eq(x, y))"
   ]
  },
  {
   "cell_type": "markdown",
   "id": "1f1b86a1",
   "metadata": {},
   "source": [
    "*Sorting*"
   ]
  },
  {
   "cell_type": "code",
   "execution_count": 39,
   "id": "416a8227",
   "metadata": {},
   "outputs": [
    {
     "name": "stdout",
     "output_type": "stream",
     "text": [
      "Sorted y and indices: tensor([7, 8, 9]) tensor([2, 1, 0])\n"
     ]
    }
   ],
   "source": [
    "sorted_y, indices = torch.sort(y, dim=0, descending=False)\n",
    "print(\"Sorted y and indices:\", sorted_y, indices)"
   ]
  },
  {
   "cell_type": "markdown",
   "id": "84e0a3a7",
   "metadata": {},
   "source": [
    "*Clamping values*"
   ]
  },
  {
   "cell_type": "code",
   "execution_count": 40,
   "id": "54f0a849",
   "metadata": {},
   "outputs": [
    {
     "name": "stdout",
     "output_type": "stream",
     "text": [
      "Clamped x: tensor([1, 2, 3])\n"
     ]
    }
   ],
   "source": [
    "print(\"Clamped x:\", torch.clamp(x, min=0))"
   ]
  },
  {
   "cell_type": "markdown",
   "id": "cebab3f4",
   "metadata": {},
   "source": [
    "*Boolean operations*"
   ]
  },
  {
   "cell_type": "code",
   "execution_count": 41,
   "id": "3eb583d7",
   "metadata": {},
   "outputs": [
    {
     "name": "stdout",
     "output_type": "stream",
     "text": [
      "Any True: tensor(True)\n",
      "All True: tensor(False)\n"
     ]
    }
   ],
   "source": [
    "x_bool = torch.tensor([1,0,1,1,1], dtype=torch.bool)\n",
    "print(\"Any True:\", torch.any(x_bool))\n",
    "print(\"All True:\", torch.all(x_bool))"
   ]
  },
  {
   "cell_type": "markdown",
   "id": "9551b689",
   "metadata": {},
   "source": [
    "**Tensor Indexing**"
   ]
  },
  {
   "cell_type": "code",
   "execution_count": 42,
   "id": "cc3f2e30",
   "metadata": {},
   "outputs": [],
   "source": [
    "batch_size = 10\n",
    "features = 25\n",
    "\n",
    "x = torch.rand((batch_size, features))"
   ]
  },
  {
   "cell_type": "markdown",
   "id": "e7f9176f",
   "metadata": {},
   "source": [
    "*Access first row*"
   ]
  },
  {
   "cell_type": "code",
   "execution_count": 43,
   "id": "017697c1",
   "metadata": {},
   "outputs": [
    {
     "name": "stdout",
     "output_type": "stream",
     "text": [
      "first row of tensor: tensor([0.3466, 0.7510, 0.6374, 0.9642, 0.8499, 0.1479, 0.0237, 0.1587, 0.4767,\n",
      "        0.0503, 0.0288, 0.7086, 0.8143, 0.6129, 0.0728, 0.6242, 0.1543, 0.9069,\n",
      "        0.2536, 0.9804, 0.8731, 0.7575, 0.1066, 0.6737, 0.8904])\n"
     ]
    }
   ],
   "source": [
    "print(\"first row of tensor:\", x[0, :])"
   ]
  },
  {
   "cell_type": "markdown",
   "id": "8f1b385b",
   "metadata": {},
   "source": [
    "*Access the second column*"
   ]
  },
  {
   "cell_type": "code",
   "execution_count": 44,
   "id": "5e7dba05",
   "metadata": {},
   "outputs": [
    {
     "name": "stdout",
     "output_type": "stream",
     "text": [
      "second column of tensor: tensor([0.7510, 0.2068, 0.3985, 0.2294, 0.8614, 0.4038, 0.0424, 0.1820, 0.9212,\n",
      "        0.2945])\n"
     ]
    }
   ],
   "source": [
    "print(\"second column of tensor:\", x[:, 1])"
   ]
  },
  {
   "cell_type": "markdown",
   "id": "48aed96c",
   "metadata": {},
   "source": [
    "*Access the first 10 elements of the third row*"
   ]
  },
  {
   "cell_type": "code",
   "execution_count": 45,
   "id": "a64831c6",
   "metadata": {},
   "outputs": [
    {
     "name": "stdout",
     "output_type": "stream",
     "text": [
      "First 10 elements of third row: tensor([0.9129, 0.3985, 0.6402, 0.4488, 0.2022, 0.8033, 0.0296, 0.0906, 0.4965,\n",
      "        0.3397])\n"
     ]
    }
   ],
   "source": [
    "print(\"First 10 elements of third row:\", x[2, 0:10])"
   ]
  },
  {
   "cell_type": "markdown",
   "id": "838e4b12",
   "metadata": {},
   "source": [
    "*modify a specific element (set first element to 100)*"
   ]
  },
  {
   "cell_type": "code",
   "execution_count": 46,
   "id": "63782f10",
   "metadata": {},
   "outputs": [
    {
     "name": "stdout",
     "output_type": "stream",
     "text": [
      "tensor(100.)\n"
     ]
    }
   ],
   "source": [
    "x[0, 0] = 100\n",
    "print(x[0,0])"
   ]
  },
  {
   "cell_type": "markdown",
   "id": "df1b1713",
   "metadata": {},
   "source": [
    "*Fancy indexing example*"
   ]
  },
  {
   "cell_type": "code",
   "execution_count": 47,
   "id": "295079d0",
   "metadata": {},
   "outputs": [
    {
     "name": "stdout",
     "output_type": "stream",
     "text": [
      "Elements where x2 < 2 or x2 > 8: tensor([0, 1, 9])\n",
      "Even numbers in x2: tensor([2, 4, 6, 8])\n"
     ]
    }
   ],
   "source": [
    "x2 = torch.arange(10)\n",
    "print(\"Elements where x2 < 2 or x2 > 8:\", x2[(x2 < 2) | (x2 > 8)])\n",
    "print(\"Even numbers in x2:\", x2[(x2 % 2 == 0) & (x2 > 0)])"
   ]
  },
  {
   "cell_type": "markdown",
   "id": "dfd4fe27",
   "metadata": {},
   "source": [
    "*Select elements based on conditions*"
   ]
  },
  {
   "cell_type": "code",
   "execution_count": 48,
   "id": "57ad615a",
   "metadata": {},
   "outputs": [
    {
     "name": "stdout",
     "output_type": "stream",
     "text": [
      "Using torch.where: tensor([ 0,  2,  4,  6,  8, 10,  6,  7,  8,  9])\n"
     ]
    }
   ],
   "source": [
    "print(\"Using torch.where:\", torch.where(x2 > 5, x2, x2*2))"
   ]
  },
  {
   "cell_type": "markdown",
   "id": "4649af77",
   "metadata": {},
   "source": [
    "**Tensor Reshaping**"
   ]
  },
  {
   "cell_type": "markdown",
   "id": "e4d38a3a",
   "metadata": {},
   "source": [
    "*Reshape with view() and reshape(), change tensor without altering data.*"
   ]
  },
  {
   "cell_type": "code",
   "execution_count": 53,
   "id": "19d71afb",
   "metadata": {},
   "outputs": [
    {
     "name": "stdout",
     "output_type": "stream",
     "text": [
      "x: tensor([0, 1, 2, 3, 4, 5, 6, 7, 8])\n",
      "Reshaped x to 3x3 using view:\n",
      " tensor([[0, 1, 2],\n",
      "        [3, 4, 5],\n",
      "        [6, 7, 8]])\n",
      "Reshaped x to 3x3 using reshape:\n",
      " tensor([[0, 1, 2],\n",
      "        [3, 4, 5],\n",
      "        [6, 7, 8]])\n",
      "Reshaped x to 1x1 using view:\n",
      " tensor([[[0, 1, 2, 3, 4, 5, 6, 7, 8]]])\n"
     ]
    }
   ],
   "source": [
    "x = torch.arange(9)\n",
    "x_3x3 = x.view(3,3)\n",
    "print(\"x:\", x)\n",
    "print(\"Reshaped x to 3x3 using view:\\n\", x_3x3)\n",
    "x_3x3 = x.reshape(3,3)\n",
    "print(\"Reshaped x to 3x3 using reshape:\\n\", x_3x3)\n",
    "x_1x1 = x.view(1,1,9)\n",
    "print(\"Reshaped x to 1x1 using view:\\n\", x_1x1)"
   ]
  },
  {
   "cell_type": "markdown",
   "id": "2779f478",
   "metadata": {},
   "source": [
    "*Tranpsose and Flatten the tensor*"
   ]
  },
  {
   "cell_type": "code",
   "execution_count": 54,
   "id": "420a8d14",
   "metadata": {},
   "outputs": [
    {
     "name": "stdout",
     "output_type": "stream",
     "text": [
      "Flattened transposed tensor: tensor([0, 3, 6, 1, 4, 7, 2, 5, 8])\n"
     ]
    }
   ],
   "source": [
    "y = x_3x3.t()\n",
    "print(\"Flattened transposed tensor:\", y.contiguous().view(9))"
   ]
  },
  {
   "cell_type": "markdown",
   "id": "b950ec64",
   "metadata": {},
   "source": [
    "*Concatenation example*"
   ]
  },
  {
   "cell_type": "code",
   "execution_count": 57,
   "id": "a3a10553",
   "metadata": {},
   "outputs": [
    {
     "name": "stdout",
     "output_type": "stream",
     "text": [
      "Concatenated along dimension 0 (rows): tensor([[0.1133, 0.2603, 0.0906, 0.9580, 0.6820],\n",
      "        [0.1679, 0.0597, 0.5028, 0.1183, 0.0216],\n",
      "        [0.1069, 0.2284, 0.0797, 0.4670, 0.3887],\n",
      "        [0.0428, 0.5957, 0.8144, 0.7712, 0.9117]])\n",
      "Concatenated along dimension 1 (columns): tensor([[0.1133, 0.2603, 0.0906, 0.9580, 0.6820, 0.1069, 0.2284, 0.0797, 0.4670,\n",
      "         0.3887],\n",
      "        [0.1679, 0.0597, 0.5028, 0.1183, 0.0216, 0.0428, 0.5957, 0.8144, 0.7712,\n",
      "         0.9117]])\n",
      "Stacked along dimension 0 (rows): tensor([[[0.1133, 0.2603, 0.0906, 0.9580, 0.6820],\n",
      "         [0.1679, 0.0597, 0.5028, 0.1183, 0.0216]],\n",
      "\n",
      "        [[0.1069, 0.2284, 0.0797, 0.4670, 0.3887],\n",
      "         [0.0428, 0.5957, 0.8144, 0.7712, 0.9117]]])\n"
     ]
    }
   ],
   "source": [
    "x1 = torch.rand(2,5)\n",
    "x2 = torch.rand(2,5)\n",
    "print(\"Concatenated along dimension 0 (rows):\", torch.cat([x1, x2], dim=0))\n",
    "print(\"Concatenated along dimension 1 (columns):\", torch.cat([x1, x2], dim=1))\n",
    "print(\"Stacked along dimension 0 (rows):\", torch.stack([x1, x2], dim=0))"
   ]
  },
  {
   "cell_type": "markdown",
   "id": "65eb174a",
   "metadata": {},
   "source": [
    "*Flatten the tensor using view(-1)*"
   ]
  },
  {
   "cell_type": "code",
   "execution_count": 58,
   "id": "c35e49f9",
   "metadata": {},
   "outputs": [
    {
     "name": "stdout",
     "output_type": "stream",
     "text": [
      "Flattened tensor shape: torch.Size([10])\n"
     ]
    }
   ],
   "source": [
    "z = x1.view(-1)\n",
    "print(\"Flattened tensor shape:\", z.shape)"
   ]
  },
  {
   "cell_type": "markdown",
   "id": "b1b50066",
   "metadata": {},
   "source": [
    "*Reshape with batch dimension*"
   ]
  },
  {
   "cell_type": "code",
   "execution_count": 59,
   "id": "75ffbd00",
   "metadata": {},
   "outputs": [
    {
     "name": "stdout",
     "output_type": "stream",
     "text": [
      "Reshaped to (batch, -1): torch.Size([64, 10])\n"
     ]
    }
   ],
   "source": [
    "batch = 64\n",
    "x = torch.rand((batch, 2, 5))\n",
    "print(\"Reshaped to (batch, -1):\", x.view(batch, -1).shape)"
   ]
  },
  {
   "cell_type": "markdown",
   "id": "5b71af1e",
   "metadata": {},
   "source": [
    "*Permute dimensions - change tensor dimensions efficiently*"
   ]
  },
  {
   "cell_type": "code",
   "execution_count": 60,
   "id": "e2194ade",
   "metadata": {},
   "outputs": [
    {
     "name": "stdout",
     "output_type": "stream",
     "text": [
      "Permuted tensor shape: torch.Size([64, 5, 2])\n"
     ]
    }
   ],
   "source": [
    "z = x.permute(0, 2, 1)\n",
    "print(\"Permuted tensor shape:\", z.shape)"
   ]
  },
  {
   "cell_type": "markdown",
   "id": "ea1512c0",
   "metadata": {},
   "source": [
    "*Unsqueeze examples (adding new dimensions)*"
   ]
  },
  {
   "cell_type": "code",
   "execution_count": 63,
   "id": "318fb73a",
   "metadata": {},
   "outputs": [
    {
     "name": "stdout",
     "output_type": "stream",
     "text": [
      "Original x: tensor([0, 1, 2, 3, 4, 5, 6, 7, 8, 9])\n",
      "x unsqueezed at dim 0: torch.Size([1, 10]) tensor([[0, 1, 2, 3, 4, 5, 6, 7, 8, 9]])\n",
      "x unsqueezed at dim 1: torch.Size([10, 1]) tensor([[0],\n",
      "        [1],\n",
      "        [2],\n",
      "        [3],\n",
      "        [4],\n",
      "        [5],\n",
      "        [6],\n",
      "        [7],\n",
      "        [8],\n",
      "        [9]])\n"
     ]
    }
   ],
   "source": [
    "x = torch.arange(10)\n",
    "print(\"Original x:\", x)\n",
    "print(\"x unsqueezed at dim 0:\", x.unsqueeze(0).shape, x.unsqueeze(0))\n",
    "print(\"x unsqueezed at dim 1:\", x.unsqueeze(1).shape, x.unsqueeze(1))"
   ]
  }
 ],
 "metadata": {
  "kernelspec": {
   "display_name": "venv",
   "language": "python",
   "name": "python3"
  },
  "language_info": {
   "codemirror_mode": {
    "name": "ipython",
    "version": 3
   },
   "file_extension": ".py",
   "mimetype": "text/x-python",
   "name": "python",
   "nbconvert_exporter": "python",
   "pygments_lexer": "ipython3",
   "version": "3.13.0"
  }
 },
 "nbformat": 4,
 "nbformat_minor": 5
}
